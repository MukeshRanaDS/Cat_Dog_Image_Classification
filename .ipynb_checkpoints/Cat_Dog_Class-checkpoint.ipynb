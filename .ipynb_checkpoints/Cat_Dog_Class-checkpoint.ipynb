{
 "cells": [
  {
   "cell_type": "markdown",
   "id": "898a675e",
   "metadata": {},
   "source": [
    "https://www.kaggle.com/code/aashnaashahh1504/image-classification-with-cnn/notebook"
   ]
  },
  {
   "cell_type": "markdown",
   "id": "041e4b34",
   "metadata": {},
   "source": [
    "## Importing Libraries"
   ]
  },
  {
   "cell_type": "code",
   "execution_count": 5,
   "id": "b6c325ac",
   "metadata": {},
   "outputs": [],
   "source": [
    "import pandas as pd\n",
    "import numpy as np\n",
    "import matplotlib.pyplot as plt\n",
    "import tensorflow as tf\n",
    "import seaborn as sns\n",
    "\n",
    "from tensorflow.keras.preprocessing.image import ImageDataGenerator, load_img, img_to_array"
   ]
  },
  {
   "cell_type": "code",
   "execution_count": 6,
   "id": "ab5333f7",
   "metadata": {},
   "outputs": [],
   "source": [
    "plt.rcParams['figure.figsize'] = (20,6)"
   ]
  },
  {
   "cell_type": "markdown",
   "id": "79a4fe09",
   "metadata": {},
   "source": [
    "## Data Loading"
   ]
  },
  {
   "cell_type": "code",
   "execution_count": 8,
   "id": "266ed860",
   "metadata": {},
   "outputs": [
    {
     "name": "stdout",
     "output_type": "stream",
     "text": [
      "Found 8000 images belonging to 2 classes.\n"
     ]
    }
   ],
   "source": [
    "img_size = 150\n",
    "batch_size = 64\n",
    "\n",
    "train_datagen = ImageDataGenerator(rescale=1/255, rotation_range=30, horizontal_flip=True, \n",
    "                                width_shift_range=0.1, height_shift_range=0.1, validation_split=0.2)\n",
    "test_fatagen = ImageDataGenerator(rescale=1/255)\n",
    "\n",
    "\n",
    "train_generator = train_datagen.flow_from_directory(r\"C:\\Users\\emage\\OneDrive\\Muqesh.py\\Tensorflow (Kaggle)\\Cat Dog Classification\\dataset\\training_set\",\n",
    "                                                   target_size=(img_size, img_size),\n",
    "                                                   batch_size=batch_size, \n",
    "                                                   shuffle = True,\n",
    "                                                   class_mode = 'binary')\n"
   ]
  },
  {
   "cell_type": "code",
   "execution_count": null,
   "id": "cfef5d38",
   "metadata": {},
   "outputs": [],
   "source": []
  }
 ],
 "metadata": {
  "kernelspec": {
   "display_name": "Python 3 (ipykernel)",
   "language": "python",
   "name": "python3"
  },
  "language_info": {
   "codemirror_mode": {
    "name": "ipython",
    "version": 3
   },
   "file_extension": ".py",
   "mimetype": "text/x-python",
   "name": "python",
   "nbconvert_exporter": "python",
   "pygments_lexer": "ipython3",
   "version": "3.9.12"
  }
 },
 "nbformat": 4,
 "nbformat_minor": 5
}
